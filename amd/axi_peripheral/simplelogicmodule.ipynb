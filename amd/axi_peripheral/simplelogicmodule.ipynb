from pynq import Overlay 
overlay = Overlay('SimpleLogicModule.bit');
# Make sure bit file is in    pynq/overlays/SimpleLogicModule/SimpleLogicModule.bit
# and the hwh file is in  pynq/overlays/SimpleLogicModule/SimpleLogicModule.hwh
aAddress         = 0x00
bAddress         = 0x04
sumAddress       = 0x08

overlay.SimpleLogicModuleAXI_0.write(aAddress,a)
overlay.SimpleLogicModuleAXI_0.write(bAddress,b)
actualSum        = overlay.SimpleLogicModuleAXI_0.read(sumAddress)
