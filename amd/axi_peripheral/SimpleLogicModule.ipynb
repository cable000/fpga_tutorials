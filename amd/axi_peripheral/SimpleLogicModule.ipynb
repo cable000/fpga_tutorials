{
 "cells": [
  {
   "cell_type": "code",
   "execution_count": null,
   "id": "c277ddc2",
   "metadata": {},
   "outputs": [],
   "source": [
    "from pynq import Overlay \n",
    "overlay = Overlay('SimpleLogicModule.bit');"
   ]
  },
  {
   "cell_type": "code",
   "execution_count": null,
   "id": "641924e4",
   "metadata": {},
   "outputs": [],
   "source": [
    "aAddress         = 0x00\n",
    "bAddress         = 0x04\n",
    "sumAddress       = 0x08"
   ]
  },
  {
   "cell_type": "code",
   "execution_count": null,
   "id": "7c944b40",
   "metadata": {},
   "outputs": [],
   "source": [
    "overlay.SimpleLogicModuleAXI_0.write(aAddress,a)\n",
    "overlay.SimpleLogicModuleAXI_0.write(bAddress,b)\n",
    "actualSum        = overlay.SimpleLogicModuleAXI_0.read(sumAddress)"
   ]
  }
 ],
 "metadata": {
  "kernelspec": {
   "display_name": "Python 3 (ipykernel)",
   "language": "python",
   "name": "python3"
  },
  "language_info": {
   "codemirror_mode": {
    "name": "ipython",
    "version": 3
   },
   "file_extension": ".py",
   "mimetype": "text/x-python",
   "name": "python",
   "nbconvert_exporter": "python",
   "pygments_lexer": "ipython3",
   "version": "3.9.12"
  }
 },
 "nbformat": 4,
 "nbformat_minor": 5
}
