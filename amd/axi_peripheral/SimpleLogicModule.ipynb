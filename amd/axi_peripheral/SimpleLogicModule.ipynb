{
 "cells": [
  {
   "cell_type": "code",
   "execution_count": null,
   "id": "c277ddc2",
   "metadata": {},
   "outputs": [],
   "source": [
    "from pynq import Overlay \n",
    "overlay = Overlay('design_1.bit');"
   ]
  },
  {
   "cell_type": "code",
   "execution_count": null,
   "id": "641924e4",
   "metadata": {},
   "outputs": [],
   "source": [
    "aAddress         = 0x00\n",
    "bAddress         = 0x04\n",
    "sumAddress       = 0x08\n",
    "diffAddress      = 0x0C\n",
    "andAddress       = 0x10\n",
    "orAddress        = 0x14\n",
    "xorAddress       = 0x18\n",
    "xnorAddress      = 0x1C"
   ]
  },
  {
   "cell_type": "code",
   "execution_count": null,
   "id": "7c944b40",
   "metadata": {},
   "outputs": [],
   "source": [
    "a = 21\n",
    "b = 7\n",
    "\n",
    "overlay.SimpleLogicModule_0.write(aAddress,a)\n",
    "overlay.SimpleLogicModule_0.write(bAddress,b)\n",
    "_sum = overlay.SimpleLogicModule_0.read(sumAddress)\n",
    "_difference = overlay.SimpleLogicModule_0.read(diffAddress)\n",
    "_and = overlay.SimpleLogicModule_0.read(andAddress)\n",
    "_or = overlay.SimpleLogicModule_0.read(orAddress)\n",
    "_xor = overlay.SimpleLogicModule_0.read(xorAddress)\n",
    "_xnor = overlay.SimpleLogicModule_0.read(xnorAddress)\n",
    "\n",
    "\n",
    "print(f\"sum: {_sum} diff: {_difference} and: {_and} or: {_or} xor: {_xor} xnor: {_xnor}\")\n",
    "assert(_sum == a+b)\n",
    "assert(_difference == a-b)\n",
    "assert(_and == a&b)\n",
    "assert(_or == a|b)\n",
    "assert(_xor == a^b)\n",
    "# compares to the twos complement of this number\n",
    "assert(_xnor == ~(a^b)+2**32)"
   ]
  }
 ],
 "metadata": {
  "kernelspec": {
   "display_name": "Python 3 (ipykernel)",
   "language": "python",
   "name": "python3"
  },
  "language_info": {
   "codemirror_mode": {
    "name": "ipython",
    "version": 3
   },
   "file_extension": ".py",
   "mimetype": "text/x-python",
   "name": "python",
   "nbconvert_exporter": "python",
   "pygments_lexer": "ipython3",
   "version": "3.9.12"
  }
 },
 "nbformat": 4,
 "nbformat_minor": 5
}
